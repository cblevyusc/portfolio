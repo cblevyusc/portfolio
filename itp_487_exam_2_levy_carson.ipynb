{
  "nbformat": 4,
  "nbformat_minor": 0,
  "metadata": {
    "colab": {
      "provenance": []
    },
    "kernelspec": {
      "name": "python3",
      "display_name": "Python 3"
    },
    "language_info": {
      "name": "python"
    }
  },
  "cells": [
    {
      "cell_type": "code",
      "execution_count": null,
      "metadata": {
        "id": "k_BkIBiRtWwV"
      },
      "outputs": [],
      "source": [
        "### PASTING CODE INTO THIS DOCUMENT AS I ORIGINALLY COMPLETED IT UNDER MY PERSONAL EMAIL ACCOUNT ###"
      ]
    },
    {
      "cell_type": "code",
      "source": [
        "# PYTHON MODULES\n",
        "# User-installed modules\n",
        "!pip install pandas_bokeh\n",
        " \n",
        "# import pre-installed and user-installed modules\n",
        "import pandas as pd\n",
        "import numpy as np\n",
        "from sklearn.preprocessing import LabelEncoder\n",
        "import pandas_bokeh  # user-installed\n",
        " \n",
        " \n",
        "# pandas options\n",
        "pd.set_option('display.max_rows', 100)\n",
        "pd.set_option('plotting.backend', 'pandas_bokeh')\n",
        "pandas_bokeh.output_notebook()"
      ],
      "metadata": {
        "colab": {
          "base_uri": "https://localhost:8080/"
        },
        "id": "IfSA97zetvzu",
        "outputId": "56f76ea3-d549-478a-edbc-d512f7b4dee8"
      },
      "execution_count": null,
      "outputs": [
        {
          "output_type": "stream",
          "name": "stdout",
          "text": [
            "Collecting pandas_bokeh\n",
            "  Downloading pandas_bokeh-0.5.5-py2.py3-none-any.whl (29 kB)\n",
            "Requirement already satisfied: pandas>=0.22.0 in /usr/local/lib/python3.7/dist-packages (from pandas_bokeh) (1.3.5)\n",
            "Requirement already satisfied: bokeh>=2.0 in /usr/local/lib/python3.7/dist-packages (from pandas_bokeh) (2.3.3)\n",
            "Requirement already satisfied: typing-extensions>=3.7.4 in /usr/local/lib/python3.7/dist-packages (from bokeh>=2.0->pandas_bokeh) (4.2.0)\n",
            "Requirement already satisfied: tornado>=5.1 in /usr/local/lib/python3.7/dist-packages (from bokeh>=2.0->pandas_bokeh) (5.1.1)\n",
            "Requirement already satisfied: python-dateutil>=2.1 in /usr/local/lib/python3.7/dist-packages (from bokeh>=2.0->pandas_bokeh) (2.8.2)\n",
            "Requirement already satisfied: PyYAML>=3.10 in /usr/local/lib/python3.7/dist-packages (from bokeh>=2.0->pandas_bokeh) (3.13)\n",
            "Requirement already satisfied: packaging>=16.8 in /usr/local/lib/python3.7/dist-packages (from bokeh>=2.0->pandas_bokeh) (21.3)\n",
            "Requirement already satisfied: Jinja2>=2.9 in /usr/local/lib/python3.7/dist-packages (from bokeh>=2.0->pandas_bokeh) (2.11.3)\n",
            "Requirement already satisfied: pillow>=7.1.0 in /usr/local/lib/python3.7/dist-packages (from bokeh>=2.0->pandas_bokeh) (7.1.2)\n",
            "Requirement already satisfied: numpy>=1.11.3 in /usr/local/lib/python3.7/dist-packages (from bokeh>=2.0->pandas_bokeh) (1.21.6)\n",
            "Requirement already satisfied: MarkupSafe>=0.23 in /usr/local/lib/python3.7/dist-packages (from Jinja2>=2.9->bokeh>=2.0->pandas_bokeh) (2.0.1)\n",
            "Requirement already satisfied: pyparsing!=3.0.5,>=2.0.2 in /usr/local/lib/python3.7/dist-packages (from packaging>=16.8->bokeh>=2.0->pandas_bokeh) (3.0.8)\n",
            "Requirement already satisfied: pytz>=2017.3 in /usr/local/lib/python3.7/dist-packages (from pandas>=0.22.0->pandas_bokeh) (2022.1)\n",
            "Requirement already satisfied: six>=1.5 in /usr/local/lib/python3.7/dist-packages (from python-dateutil>=2.1->bokeh>=2.0->pandas_bokeh) (1.15.0)\n",
            "Installing collected packages: pandas-bokeh\n",
            "Successfully installed pandas-bokeh-0.5.5\n"
          ]
        }
      ]
    },
    {
      "cell_type": "code",
      "source": [
        "!wget -nc 'https://raw.githubusercontent.com/uscprofessor/itp487_enterprise_data_analytics/main/data/personality_data_spring_2022.csv'\n",
        "personality_raw = pd.read_csv('personality_data_spring_2022.csv')"
      ],
      "metadata": {
        "colab": {
          "base_uri": "https://localhost:8080/"
        },
        "id": "eF2lRfXRtytE",
        "outputId": "6b838436-b974-4c48-b7bf-e50ee537168a"
      },
      "execution_count": null,
      "outputs": [
        {
          "output_type": "stream",
          "name": "stdout",
          "text": [
            "--2022-05-01 13:02:42--  https://raw.githubusercontent.com/uscprofessor/itp487_enterprise_data_analytics/main/data/personality_data_spring_2022.csv\n",
            "Resolving raw.githubusercontent.com (raw.githubusercontent.com)... 185.199.110.133, 185.199.111.133, 185.199.109.133, ...\n",
            "Connecting to raw.githubusercontent.com (raw.githubusercontent.com)|185.199.110.133|:443... connected.\n",
            "HTTP request sent, awaiting response... 200 OK\n",
            "Length: 6792 (6.6K) [text/plain]\n",
            "Saving to: ‘personality_data_spring_2022.csv’\n",
            "\n",
            "personality_data_sp 100%[===================>]   6.63K  --.-KB/s    in 0s      \n",
            "\n",
            "2022-05-01 13:02:43 (77.3 MB/s) - ‘personality_data_spring_2022.csv’ saved [6792/6792]\n",
            "\n"
          ]
        }
      ]
    },
    {
      "cell_type": "code",
      "source": [
        "personality_raw.shape"
      ],
      "metadata": {
        "colab": {
          "base_uri": "https://localhost:8080/"
        },
        "id": "wgFFcQbrt10H",
        "outputId": "62006ffd-aeb7-4bb5-cdc9-9c28b0cff263"
      },
      "execution_count": null,
      "outputs": [
        {
          "output_type": "execute_result",
          "data": {
            "text/plain": [
              "(128, 11)"
            ]
          },
          "metadata": {},
          "execution_count": 4
        }
      ]
    },
    {
      "cell_type": "code",
      "source": [
        "personality_raw"
      ],
      "metadata": {
        "colab": {
          "base_uri": "https://localhost:8080/",
          "height": 678
        },
        "id": "PLiQHqhBt32P",
        "outputId": "31802cac-d61e-45a3-f2b9-9737201253f7"
      },
      "execution_count": null,
      "outputs": [
        {
          "output_type": "execute_result",
          "data": {
            "text/plain": [
              "    Personality  Grad_Year     Class      GPA                    Transfer  \\\n",
              "0        ISTJ-A       2024  Sophmore    > 3.6                          No   \n",
              "1        ENTP-T       2024  Sophmore    > 3.6                          No   \n",
              "2        INTP-A       2023    Junior    > 3.6                          No   \n",
              "3        ENFJ-T       2022    Senior    > 3.6                          No   \n",
              "4        INFJ-T       2023    Junior    > 3.6                          No   \n",
              "..          ...        ...       ...      ...                         ...   \n",
              "123      ENFP-T       2023    Junior    > 3.6                          No   \n",
              "124      ESTJ-A       2024  Sophmore    > 3.6                          No   \n",
              "125      ESTP-T       2022    Senior    > 3.6  Yes, from a 4 year college   \n",
              "126      ENTJ-A       2025    Senior  3.3-3.6                          No   \n",
              "127      ENFJ-T       2022    Senior    > 3.6                          No   \n",
              "\n",
              "    International  Aca_Exp  Social_Exp Merit_Scholarships  USC_Exp     Sex  \n",
              "0             Yes        4           4                 0%        4    Male  \n",
              "1             Yes        4           3                 0%        4    Male  \n",
              "2             Yes        5           4                 0%        4    Male  \n",
              "3              No        4           5                 0%        4  Female  \n",
              "4              No        5           3                50%        3  Female  \n",
              "..            ...      ...         ...                ...      ...     ...  \n",
              "123           Yes        4           5                 0%        5  Female  \n",
              "124           Yes        4           4                 0%        4  Female  \n",
              "125           Yes        3           3                50%        3  Female  \n",
              "126           Yes        3           4                 0%        4    Male  \n",
              "127            No        4           4                 0%        4    Male  \n",
              "\n",
              "[128 rows x 11 columns]"
            ],
            "text/html": [
              "\n",
              "  <div id=\"df-6b100a9b-7283-4107-87a9-87d0d45f109f\">\n",
              "    <div class=\"colab-df-container\">\n",
              "      <div>\n",
              "<style scoped>\n",
              "    .dataframe tbody tr th:only-of-type {\n",
              "        vertical-align: middle;\n",
              "    }\n",
              "\n",
              "    .dataframe tbody tr th {\n",
              "        vertical-align: top;\n",
              "    }\n",
              "\n",
              "    .dataframe thead th {\n",
              "        text-align: right;\n",
              "    }\n",
              "</style>\n",
              "<table border=\"1\" class=\"dataframe\">\n",
              "  <thead>\n",
              "    <tr style=\"text-align: right;\">\n",
              "      <th></th>\n",
              "      <th>Personality</th>\n",
              "      <th>Grad_Year</th>\n",
              "      <th>Class</th>\n",
              "      <th>GPA</th>\n",
              "      <th>Transfer</th>\n",
              "      <th>International</th>\n",
              "      <th>Aca_Exp</th>\n",
              "      <th>Social_Exp</th>\n",
              "      <th>Merit_Scholarships</th>\n",
              "      <th>USC_Exp</th>\n",
              "      <th>Sex</th>\n",
              "    </tr>\n",
              "  </thead>\n",
              "  <tbody>\n",
              "    <tr>\n",
              "      <th>0</th>\n",
              "      <td>ISTJ-A</td>\n",
              "      <td>2024</td>\n",
              "      <td>Sophmore</td>\n",
              "      <td>&gt; 3.6</td>\n",
              "      <td>No</td>\n",
              "      <td>Yes</td>\n",
              "      <td>4</td>\n",
              "      <td>4</td>\n",
              "      <td>0%</td>\n",
              "      <td>4</td>\n",
              "      <td>Male</td>\n",
              "    </tr>\n",
              "    <tr>\n",
              "      <th>1</th>\n",
              "      <td>ENTP-T</td>\n",
              "      <td>2024</td>\n",
              "      <td>Sophmore</td>\n",
              "      <td>&gt; 3.6</td>\n",
              "      <td>No</td>\n",
              "      <td>Yes</td>\n",
              "      <td>4</td>\n",
              "      <td>3</td>\n",
              "      <td>0%</td>\n",
              "      <td>4</td>\n",
              "      <td>Male</td>\n",
              "    </tr>\n",
              "    <tr>\n",
              "      <th>2</th>\n",
              "      <td>INTP-A</td>\n",
              "      <td>2023</td>\n",
              "      <td>Junior</td>\n",
              "      <td>&gt; 3.6</td>\n",
              "      <td>No</td>\n",
              "      <td>Yes</td>\n",
              "      <td>5</td>\n",
              "      <td>4</td>\n",
              "      <td>0%</td>\n",
              "      <td>4</td>\n",
              "      <td>Male</td>\n",
              "    </tr>\n",
              "    <tr>\n",
              "      <th>3</th>\n",
              "      <td>ENFJ-T</td>\n",
              "      <td>2022</td>\n",
              "      <td>Senior</td>\n",
              "      <td>&gt; 3.6</td>\n",
              "      <td>No</td>\n",
              "      <td>No</td>\n",
              "      <td>4</td>\n",
              "      <td>5</td>\n",
              "      <td>0%</td>\n",
              "      <td>4</td>\n",
              "      <td>Female</td>\n",
              "    </tr>\n",
              "    <tr>\n",
              "      <th>4</th>\n",
              "      <td>INFJ-T</td>\n",
              "      <td>2023</td>\n",
              "      <td>Junior</td>\n",
              "      <td>&gt; 3.6</td>\n",
              "      <td>No</td>\n",
              "      <td>No</td>\n",
              "      <td>5</td>\n",
              "      <td>3</td>\n",
              "      <td>50%</td>\n",
              "      <td>3</td>\n",
              "      <td>Female</td>\n",
              "    </tr>\n",
              "    <tr>\n",
              "      <th>...</th>\n",
              "      <td>...</td>\n",
              "      <td>...</td>\n",
              "      <td>...</td>\n",
              "      <td>...</td>\n",
              "      <td>...</td>\n",
              "      <td>...</td>\n",
              "      <td>...</td>\n",
              "      <td>...</td>\n",
              "      <td>...</td>\n",
              "      <td>...</td>\n",
              "      <td>...</td>\n",
              "    </tr>\n",
              "    <tr>\n",
              "      <th>123</th>\n",
              "      <td>ENFP-T</td>\n",
              "      <td>2023</td>\n",
              "      <td>Junior</td>\n",
              "      <td>&gt; 3.6</td>\n",
              "      <td>No</td>\n",
              "      <td>Yes</td>\n",
              "      <td>4</td>\n",
              "      <td>5</td>\n",
              "      <td>0%</td>\n",
              "      <td>5</td>\n",
              "      <td>Female</td>\n",
              "    </tr>\n",
              "    <tr>\n",
              "      <th>124</th>\n",
              "      <td>ESTJ-A</td>\n",
              "      <td>2024</td>\n",
              "      <td>Sophmore</td>\n",
              "      <td>&gt; 3.6</td>\n",
              "      <td>No</td>\n",
              "      <td>Yes</td>\n",
              "      <td>4</td>\n",
              "      <td>4</td>\n",
              "      <td>0%</td>\n",
              "      <td>4</td>\n",
              "      <td>Female</td>\n",
              "    </tr>\n",
              "    <tr>\n",
              "      <th>125</th>\n",
              "      <td>ESTP-T</td>\n",
              "      <td>2022</td>\n",
              "      <td>Senior</td>\n",
              "      <td>&gt; 3.6</td>\n",
              "      <td>Yes, from a 4 year college</td>\n",
              "      <td>Yes</td>\n",
              "      <td>3</td>\n",
              "      <td>3</td>\n",
              "      <td>50%</td>\n",
              "      <td>3</td>\n",
              "      <td>Female</td>\n",
              "    </tr>\n",
              "    <tr>\n",
              "      <th>126</th>\n",
              "      <td>ENTJ-A</td>\n",
              "      <td>2025</td>\n",
              "      <td>Senior</td>\n",
              "      <td>3.3-3.6</td>\n",
              "      <td>No</td>\n",
              "      <td>Yes</td>\n",
              "      <td>3</td>\n",
              "      <td>4</td>\n",
              "      <td>0%</td>\n",
              "      <td>4</td>\n",
              "      <td>Male</td>\n",
              "    </tr>\n",
              "    <tr>\n",
              "      <th>127</th>\n",
              "      <td>ENFJ-T</td>\n",
              "      <td>2022</td>\n",
              "      <td>Senior</td>\n",
              "      <td>&gt; 3.6</td>\n",
              "      <td>No</td>\n",
              "      <td>No</td>\n",
              "      <td>4</td>\n",
              "      <td>4</td>\n",
              "      <td>0%</td>\n",
              "      <td>4</td>\n",
              "      <td>Male</td>\n",
              "    </tr>\n",
              "  </tbody>\n",
              "</table>\n",
              "<p>128 rows × 11 columns</p>\n",
              "</div>\n",
              "      <button class=\"colab-df-convert\" onclick=\"convertToInteractive('df-6b100a9b-7283-4107-87a9-87d0d45f109f')\"\n",
              "              title=\"Convert this dataframe to an interactive table.\"\n",
              "              style=\"display:none;\">\n",
              "        \n",
              "  <svg xmlns=\"http://www.w3.org/2000/svg\" height=\"24px\"viewBox=\"0 0 24 24\"\n",
              "       width=\"24px\">\n",
              "    <path d=\"M0 0h24v24H0V0z\" fill=\"none\"/>\n",
              "    <path d=\"M18.56 5.44l.94 2.06.94-2.06 2.06-.94-2.06-.94-.94-2.06-.94 2.06-2.06.94zm-11 1L8.5 8.5l.94-2.06 2.06-.94-2.06-.94L8.5 2.5l-.94 2.06-2.06.94zm10 10l.94 2.06.94-2.06 2.06-.94-2.06-.94-.94-2.06-.94 2.06-2.06.94z\"/><path d=\"M17.41 7.96l-1.37-1.37c-.4-.4-.92-.59-1.43-.59-.52 0-1.04.2-1.43.59L10.3 9.45l-7.72 7.72c-.78.78-.78 2.05 0 2.83L4 21.41c.39.39.9.59 1.41.59.51 0 1.02-.2 1.41-.59l7.78-7.78 2.81-2.81c.8-.78.8-2.07 0-2.86zM5.41 20L4 18.59l7.72-7.72 1.47 1.35L5.41 20z\"/>\n",
              "  </svg>\n",
              "      </button>\n",
              "      \n",
              "  <style>\n",
              "    .colab-df-container {\n",
              "      display:flex;\n",
              "      flex-wrap:wrap;\n",
              "      gap: 12px;\n",
              "    }\n",
              "\n",
              "    .colab-df-convert {\n",
              "      background-color: #E8F0FE;\n",
              "      border: none;\n",
              "      border-radius: 50%;\n",
              "      cursor: pointer;\n",
              "      display: none;\n",
              "      fill: #1967D2;\n",
              "      height: 32px;\n",
              "      padding: 0 0 0 0;\n",
              "      width: 32px;\n",
              "    }\n",
              "\n",
              "    .colab-df-convert:hover {\n",
              "      background-color: #E2EBFA;\n",
              "      box-shadow: 0px 1px 2px rgba(60, 64, 67, 0.3), 0px 1px 3px 1px rgba(60, 64, 67, 0.15);\n",
              "      fill: #174EA6;\n",
              "    }\n",
              "\n",
              "    [theme=dark] .colab-df-convert {\n",
              "      background-color: #3B4455;\n",
              "      fill: #D2E3FC;\n",
              "    }\n",
              "\n",
              "    [theme=dark] .colab-df-convert:hover {\n",
              "      background-color: #434B5C;\n",
              "      box-shadow: 0px 1px 3px 1px rgba(0, 0, 0, 0.15);\n",
              "      filter: drop-shadow(0px 1px 2px rgba(0, 0, 0, 0.3));\n",
              "      fill: #FFFFFF;\n",
              "    }\n",
              "  </style>\n",
              "\n",
              "      <script>\n",
              "        const buttonEl =\n",
              "          document.querySelector('#df-6b100a9b-7283-4107-87a9-87d0d45f109f button.colab-df-convert');\n",
              "        buttonEl.style.display =\n",
              "          google.colab.kernel.accessAllowed ? 'block' : 'none';\n",
              "\n",
              "        async function convertToInteractive(key) {\n",
              "          const element = document.querySelector('#df-6b100a9b-7283-4107-87a9-87d0d45f109f');\n",
              "          const dataTable =\n",
              "            await google.colab.kernel.invokeFunction('convertToInteractive',\n",
              "                                                     [key], {});\n",
              "          if (!dataTable) return;\n",
              "\n",
              "          const docLinkHtml = 'Like what you see? Visit the ' +\n",
              "            '<a target=\"_blank\" href=https://colab.research.google.com/notebooks/data_table.ipynb>data table notebook</a>'\n",
              "            + ' to learn more about interactive tables.';\n",
              "          element.innerHTML = '';\n",
              "          dataTable['output_type'] = 'display_data';\n",
              "          await google.colab.output.renderOutput(dataTable, element);\n",
              "          const docLink = document.createElement('div');\n",
              "          docLink.innerHTML = docLinkHtml;\n",
              "          element.appendChild(docLink);\n",
              "        }\n",
              "      </script>\n",
              "    </div>\n",
              "  </div>\n",
              "  "
            ]
          },
          "metadata": {},
          "execution_count": 5
        }
      ]
    },
    {
      "cell_type": "code",
      "source": [
        "personality = personality_raw.copy()"
      ],
      "metadata": {
        "id": "fEFqRjb4t6W0"
      },
      "execution_count": null,
      "outputs": []
    },
    {
      "cell_type": "code",
      "source": [
        "personality = personality[['Personality', 'Grad_Year', 'USC_Exp','GPA','Sex', 'Merit_Scholarships']]"
      ],
      "metadata": {
        "id": "JlWhtuWk_Py_"
      },
      "execution_count": null,
      "outputs": []
    },
    {
      "cell_type": "code",
      "source": [
        "personality.dropna()"
      ],
      "metadata": {
        "colab": {
          "base_uri": "https://localhost:8080/",
          "height": 424
        },
        "id": "h1283pQkuFJU",
        "outputId": "577299c2-ba1c-4d29-9dc7-62b4e5d5b707"
      },
      "execution_count": null,
      "outputs": [
        {
          "output_type": "execute_result",
          "data": {
            "text/plain": [
              "    Personality  Grad_Year  USC_Exp      GPA     Sex Merit_Scholarships\n",
              "0        ISTJ-A       2024        4    > 3.6    Male                 0%\n",
              "1        ENTP-T       2024        4    > 3.6    Male                 0%\n",
              "2        INTP-A       2023        4    > 3.6    Male                 0%\n",
              "3        ENFJ-T       2022        4    > 3.6  Female                 0%\n",
              "4        INFJ-T       2023        3    > 3.6  Female                50%\n",
              "..          ...        ...      ...      ...     ...                ...\n",
              "123      ENFP-T       2023        5    > 3.6  Female                 0%\n",
              "124      ESTJ-A       2024        4    > 3.6  Female                 0%\n",
              "125      ESTP-T       2022        3    > 3.6  Female                50%\n",
              "126      ENTJ-A       2025        4  3.3-3.6    Male                 0%\n",
              "127      ENFJ-T       2022        4    > 3.6    Male                 0%\n",
              "\n",
              "[128 rows x 6 columns]"
            ],
            "text/html": [
              "\n",
              "  <div id=\"df-12734839-4353-4dd5-9844-1e22c1e027db\">\n",
              "    <div class=\"colab-df-container\">\n",
              "      <div>\n",
              "<style scoped>\n",
              "    .dataframe tbody tr th:only-of-type {\n",
              "        vertical-align: middle;\n",
              "    }\n",
              "\n",
              "    .dataframe tbody tr th {\n",
              "        vertical-align: top;\n",
              "    }\n",
              "\n",
              "    .dataframe thead th {\n",
              "        text-align: right;\n",
              "    }\n",
              "</style>\n",
              "<table border=\"1\" class=\"dataframe\">\n",
              "  <thead>\n",
              "    <tr style=\"text-align: right;\">\n",
              "      <th></th>\n",
              "      <th>Personality</th>\n",
              "      <th>Grad_Year</th>\n",
              "      <th>USC_Exp</th>\n",
              "      <th>GPA</th>\n",
              "      <th>Sex</th>\n",
              "      <th>Merit_Scholarships</th>\n",
              "    </tr>\n",
              "  </thead>\n",
              "  <tbody>\n",
              "    <tr>\n",
              "      <th>0</th>\n",
              "      <td>ISTJ-A</td>\n",
              "      <td>2024</td>\n",
              "      <td>4</td>\n",
              "      <td>&gt; 3.6</td>\n",
              "      <td>Male</td>\n",
              "      <td>0%</td>\n",
              "    </tr>\n",
              "    <tr>\n",
              "      <th>1</th>\n",
              "      <td>ENTP-T</td>\n",
              "      <td>2024</td>\n",
              "      <td>4</td>\n",
              "      <td>&gt; 3.6</td>\n",
              "      <td>Male</td>\n",
              "      <td>0%</td>\n",
              "    </tr>\n",
              "    <tr>\n",
              "      <th>2</th>\n",
              "      <td>INTP-A</td>\n",
              "      <td>2023</td>\n",
              "      <td>4</td>\n",
              "      <td>&gt; 3.6</td>\n",
              "      <td>Male</td>\n",
              "      <td>0%</td>\n",
              "    </tr>\n",
              "    <tr>\n",
              "      <th>3</th>\n",
              "      <td>ENFJ-T</td>\n",
              "      <td>2022</td>\n",
              "      <td>4</td>\n",
              "      <td>&gt; 3.6</td>\n",
              "      <td>Female</td>\n",
              "      <td>0%</td>\n",
              "    </tr>\n",
              "    <tr>\n",
              "      <th>4</th>\n",
              "      <td>INFJ-T</td>\n",
              "      <td>2023</td>\n",
              "      <td>3</td>\n",
              "      <td>&gt; 3.6</td>\n",
              "      <td>Female</td>\n",
              "      <td>50%</td>\n",
              "    </tr>\n",
              "    <tr>\n",
              "      <th>...</th>\n",
              "      <td>...</td>\n",
              "      <td>...</td>\n",
              "      <td>...</td>\n",
              "      <td>...</td>\n",
              "      <td>...</td>\n",
              "      <td>...</td>\n",
              "    </tr>\n",
              "    <tr>\n",
              "      <th>123</th>\n",
              "      <td>ENFP-T</td>\n",
              "      <td>2023</td>\n",
              "      <td>5</td>\n",
              "      <td>&gt; 3.6</td>\n",
              "      <td>Female</td>\n",
              "      <td>0%</td>\n",
              "    </tr>\n",
              "    <tr>\n",
              "      <th>124</th>\n",
              "      <td>ESTJ-A</td>\n",
              "      <td>2024</td>\n",
              "      <td>4</td>\n",
              "      <td>&gt; 3.6</td>\n",
              "      <td>Female</td>\n",
              "      <td>0%</td>\n",
              "    </tr>\n",
              "    <tr>\n",
              "      <th>125</th>\n",
              "      <td>ESTP-T</td>\n",
              "      <td>2022</td>\n",
              "      <td>3</td>\n",
              "      <td>&gt; 3.6</td>\n",
              "      <td>Female</td>\n",
              "      <td>50%</td>\n",
              "    </tr>\n",
              "    <tr>\n",
              "      <th>126</th>\n",
              "      <td>ENTJ-A</td>\n",
              "      <td>2025</td>\n",
              "      <td>4</td>\n",
              "      <td>3.3-3.6</td>\n",
              "      <td>Male</td>\n",
              "      <td>0%</td>\n",
              "    </tr>\n",
              "    <tr>\n",
              "      <th>127</th>\n",
              "      <td>ENFJ-T</td>\n",
              "      <td>2022</td>\n",
              "      <td>4</td>\n",
              "      <td>&gt; 3.6</td>\n",
              "      <td>Male</td>\n",
              "      <td>0%</td>\n",
              "    </tr>\n",
              "  </tbody>\n",
              "</table>\n",
              "<p>128 rows × 6 columns</p>\n",
              "</div>\n",
              "      <button class=\"colab-df-convert\" onclick=\"convertToInteractive('df-12734839-4353-4dd5-9844-1e22c1e027db')\"\n",
              "              title=\"Convert this dataframe to an interactive table.\"\n",
              "              style=\"display:none;\">\n",
              "        \n",
              "  <svg xmlns=\"http://www.w3.org/2000/svg\" height=\"24px\"viewBox=\"0 0 24 24\"\n",
              "       width=\"24px\">\n",
              "    <path d=\"M0 0h24v24H0V0z\" fill=\"none\"/>\n",
              "    <path d=\"M18.56 5.44l.94 2.06.94-2.06 2.06-.94-2.06-.94-.94-2.06-.94 2.06-2.06.94zm-11 1L8.5 8.5l.94-2.06 2.06-.94-2.06-.94L8.5 2.5l-.94 2.06-2.06.94zm10 10l.94 2.06.94-2.06 2.06-.94-2.06-.94-.94-2.06-.94 2.06-2.06.94z\"/><path d=\"M17.41 7.96l-1.37-1.37c-.4-.4-.92-.59-1.43-.59-.52 0-1.04.2-1.43.59L10.3 9.45l-7.72 7.72c-.78.78-.78 2.05 0 2.83L4 21.41c.39.39.9.59 1.41.59.51 0 1.02-.2 1.41-.59l7.78-7.78 2.81-2.81c.8-.78.8-2.07 0-2.86zM5.41 20L4 18.59l7.72-7.72 1.47 1.35L5.41 20z\"/>\n",
              "  </svg>\n",
              "      </button>\n",
              "      \n",
              "  <style>\n",
              "    .colab-df-container {\n",
              "      display:flex;\n",
              "      flex-wrap:wrap;\n",
              "      gap: 12px;\n",
              "    }\n",
              "\n",
              "    .colab-df-convert {\n",
              "      background-color: #E8F0FE;\n",
              "      border: none;\n",
              "      border-radius: 50%;\n",
              "      cursor: pointer;\n",
              "      display: none;\n",
              "      fill: #1967D2;\n",
              "      height: 32px;\n",
              "      padding: 0 0 0 0;\n",
              "      width: 32px;\n",
              "    }\n",
              "\n",
              "    .colab-df-convert:hover {\n",
              "      background-color: #E2EBFA;\n",
              "      box-shadow: 0px 1px 2px rgba(60, 64, 67, 0.3), 0px 1px 3px 1px rgba(60, 64, 67, 0.15);\n",
              "      fill: #174EA6;\n",
              "    }\n",
              "\n",
              "    [theme=dark] .colab-df-convert {\n",
              "      background-color: #3B4455;\n",
              "      fill: #D2E3FC;\n",
              "    }\n",
              "\n",
              "    [theme=dark] .colab-df-convert:hover {\n",
              "      background-color: #434B5C;\n",
              "      box-shadow: 0px 1px 3px 1px rgba(0, 0, 0, 0.15);\n",
              "      filter: drop-shadow(0px 1px 2px rgba(0, 0, 0, 0.3));\n",
              "      fill: #FFFFFF;\n",
              "    }\n",
              "  </style>\n",
              "\n",
              "      <script>\n",
              "        const buttonEl =\n",
              "          document.querySelector('#df-12734839-4353-4dd5-9844-1e22c1e027db button.colab-df-convert');\n",
              "        buttonEl.style.display =\n",
              "          google.colab.kernel.accessAllowed ? 'block' : 'none';\n",
              "\n",
              "        async function convertToInteractive(key) {\n",
              "          const element = document.querySelector('#df-12734839-4353-4dd5-9844-1e22c1e027db');\n",
              "          const dataTable =\n",
              "            await google.colab.kernel.invokeFunction('convertToInteractive',\n",
              "                                                     [key], {});\n",
              "          if (!dataTable) return;\n",
              "\n",
              "          const docLinkHtml = 'Like what you see? Visit the ' +\n",
              "            '<a target=\"_blank\" href=https://colab.research.google.com/notebooks/data_table.ipynb>data table notebook</a>'\n",
              "            + ' to learn more about interactive tables.';\n",
              "          element.innerHTML = '';\n",
              "          dataTable['output_type'] = 'display_data';\n",
              "          await google.colab.output.renderOutput(dataTable, element);\n",
              "          const docLink = document.createElement('div');\n",
              "          docLink.innerHTML = docLinkHtml;\n",
              "          element.appendChild(docLink);\n",
              "        }\n",
              "      </script>\n",
              "    </div>\n",
              "  </div>\n",
              "  "
            ]
          },
          "metadata": {},
          "execution_count": 8
        }
      ]
    },
    {
      "cell_type": "code",
      "source": [
        "personality[personality.columns[3:]]=personality[personality.columns[3:]].apply(lambda x: x.str[0:]).astype(str)"
      ],
      "metadata": {
        "id": "ZXbflZAxuKQn"
      },
      "execution_count": null,
      "outputs": []
    },
    {
      "cell_type": "code",
      "source": [
        "a = lambda x : str(x)[0]\n",
        "personality['Extroversion'] = personality['Personality'].apply(a)"
      ],
      "metadata": {
        "id": "AN-Rst34uNDC"
      },
      "execution_count": null,
      "outputs": []
    },
    {
      "cell_type": "code",
      "source": [
        "personality.head(10)"
      ],
      "metadata": {
        "colab": {
          "base_uri": "https://localhost:8080/",
          "height": 363
        },
        "id": "ApTH1uzpuPy1",
        "outputId": "2ac30797-12b4-4836-da68-1aca2e6e27eb"
      },
      "execution_count": null,
      "outputs": [
        {
          "output_type": "execute_result",
          "data": {
            "text/plain": [
              "  Personality  Grad_Year  USC_Exp    GPA     Sex Merit_Scholarships  \\\n",
              "0      ISTJ-A       2024        4  > 3.6    Male                 0%   \n",
              "1      ENTP-T       2024        4  > 3.6    Male                 0%   \n",
              "2      INTP-A       2023        4  > 3.6    Male                 0%   \n",
              "3      ENFJ-T       2022        4  > 3.6  Female                 0%   \n",
              "4      INFJ-T       2023        3  > 3.6  Female                50%   \n",
              "5      INTJ-T       2023        3  > 3.6  Female                 0%   \n",
              "6      ISTJ-A       2024        2  > 3.6    Male                 0%   \n",
              "7      INFJ-T       2024        4  > 3.6  Female                 0%   \n",
              "8      INTJ-T       2023        3  > 3.6    Male                 0%   \n",
              "9      ENTP-T       2023        5  > 3.6  Female                 0%   \n",
              "\n",
              "  Extroversion  \n",
              "0            I  \n",
              "1            E  \n",
              "2            I  \n",
              "3            E  \n",
              "4            I  \n",
              "5            I  \n",
              "6            I  \n",
              "7            I  \n",
              "8            I  \n",
              "9            E  "
            ],
            "text/html": [
              "\n",
              "  <div id=\"df-9706558b-f19b-44a6-8766-7156b745b4b6\">\n",
              "    <div class=\"colab-df-container\">\n",
              "      <div>\n",
              "<style scoped>\n",
              "    .dataframe tbody tr th:only-of-type {\n",
              "        vertical-align: middle;\n",
              "    }\n",
              "\n",
              "    .dataframe tbody tr th {\n",
              "        vertical-align: top;\n",
              "    }\n",
              "\n",
              "    .dataframe thead th {\n",
              "        text-align: right;\n",
              "    }\n",
              "</style>\n",
              "<table border=\"1\" class=\"dataframe\">\n",
              "  <thead>\n",
              "    <tr style=\"text-align: right;\">\n",
              "      <th></th>\n",
              "      <th>Personality</th>\n",
              "      <th>Grad_Year</th>\n",
              "      <th>USC_Exp</th>\n",
              "      <th>GPA</th>\n",
              "      <th>Sex</th>\n",
              "      <th>Merit_Scholarships</th>\n",
              "      <th>Extroversion</th>\n",
              "    </tr>\n",
              "  </thead>\n",
              "  <tbody>\n",
              "    <tr>\n",
              "      <th>0</th>\n",
              "      <td>ISTJ-A</td>\n",
              "      <td>2024</td>\n",
              "      <td>4</td>\n",
              "      <td>&gt; 3.6</td>\n",
              "      <td>Male</td>\n",
              "      <td>0%</td>\n",
              "      <td>I</td>\n",
              "    </tr>\n",
              "    <tr>\n",
              "      <th>1</th>\n",
              "      <td>ENTP-T</td>\n",
              "      <td>2024</td>\n",
              "      <td>4</td>\n",
              "      <td>&gt; 3.6</td>\n",
              "      <td>Male</td>\n",
              "      <td>0%</td>\n",
              "      <td>E</td>\n",
              "    </tr>\n",
              "    <tr>\n",
              "      <th>2</th>\n",
              "      <td>INTP-A</td>\n",
              "      <td>2023</td>\n",
              "      <td>4</td>\n",
              "      <td>&gt; 3.6</td>\n",
              "      <td>Male</td>\n",
              "      <td>0%</td>\n",
              "      <td>I</td>\n",
              "    </tr>\n",
              "    <tr>\n",
              "      <th>3</th>\n",
              "      <td>ENFJ-T</td>\n",
              "      <td>2022</td>\n",
              "      <td>4</td>\n",
              "      <td>&gt; 3.6</td>\n",
              "      <td>Female</td>\n",
              "      <td>0%</td>\n",
              "      <td>E</td>\n",
              "    </tr>\n",
              "    <tr>\n",
              "      <th>4</th>\n",
              "      <td>INFJ-T</td>\n",
              "      <td>2023</td>\n",
              "      <td>3</td>\n",
              "      <td>&gt; 3.6</td>\n",
              "      <td>Female</td>\n",
              "      <td>50%</td>\n",
              "      <td>I</td>\n",
              "    </tr>\n",
              "    <tr>\n",
              "      <th>5</th>\n",
              "      <td>INTJ-T</td>\n",
              "      <td>2023</td>\n",
              "      <td>3</td>\n",
              "      <td>&gt; 3.6</td>\n",
              "      <td>Female</td>\n",
              "      <td>0%</td>\n",
              "      <td>I</td>\n",
              "    </tr>\n",
              "    <tr>\n",
              "      <th>6</th>\n",
              "      <td>ISTJ-A</td>\n",
              "      <td>2024</td>\n",
              "      <td>2</td>\n",
              "      <td>&gt; 3.6</td>\n",
              "      <td>Male</td>\n",
              "      <td>0%</td>\n",
              "      <td>I</td>\n",
              "    </tr>\n",
              "    <tr>\n",
              "      <th>7</th>\n",
              "      <td>INFJ-T</td>\n",
              "      <td>2024</td>\n",
              "      <td>4</td>\n",
              "      <td>&gt; 3.6</td>\n",
              "      <td>Female</td>\n",
              "      <td>0%</td>\n",
              "      <td>I</td>\n",
              "    </tr>\n",
              "    <tr>\n",
              "      <th>8</th>\n",
              "      <td>INTJ-T</td>\n",
              "      <td>2023</td>\n",
              "      <td>3</td>\n",
              "      <td>&gt; 3.6</td>\n",
              "      <td>Male</td>\n",
              "      <td>0%</td>\n",
              "      <td>I</td>\n",
              "    </tr>\n",
              "    <tr>\n",
              "      <th>9</th>\n",
              "      <td>ENTP-T</td>\n",
              "      <td>2023</td>\n",
              "      <td>5</td>\n",
              "      <td>&gt; 3.6</td>\n",
              "      <td>Female</td>\n",
              "      <td>0%</td>\n",
              "      <td>E</td>\n",
              "    </tr>\n",
              "  </tbody>\n",
              "</table>\n",
              "</div>\n",
              "      <button class=\"colab-df-convert\" onclick=\"convertToInteractive('df-9706558b-f19b-44a6-8766-7156b745b4b6')\"\n",
              "              title=\"Convert this dataframe to an interactive table.\"\n",
              "              style=\"display:none;\">\n",
              "        \n",
              "  <svg xmlns=\"http://www.w3.org/2000/svg\" height=\"24px\"viewBox=\"0 0 24 24\"\n",
              "       width=\"24px\">\n",
              "    <path d=\"M0 0h24v24H0V0z\" fill=\"none\"/>\n",
              "    <path d=\"M18.56 5.44l.94 2.06.94-2.06 2.06-.94-2.06-.94-.94-2.06-.94 2.06-2.06.94zm-11 1L8.5 8.5l.94-2.06 2.06-.94-2.06-.94L8.5 2.5l-.94 2.06-2.06.94zm10 10l.94 2.06.94-2.06 2.06-.94-2.06-.94-.94-2.06-.94 2.06-2.06.94z\"/><path d=\"M17.41 7.96l-1.37-1.37c-.4-.4-.92-.59-1.43-.59-.52 0-1.04.2-1.43.59L10.3 9.45l-7.72 7.72c-.78.78-.78 2.05 0 2.83L4 21.41c.39.39.9.59 1.41.59.51 0 1.02-.2 1.41-.59l7.78-7.78 2.81-2.81c.8-.78.8-2.07 0-2.86zM5.41 20L4 18.59l7.72-7.72 1.47 1.35L5.41 20z\"/>\n",
              "  </svg>\n",
              "      </button>\n",
              "      \n",
              "  <style>\n",
              "    .colab-df-container {\n",
              "      display:flex;\n",
              "      flex-wrap:wrap;\n",
              "      gap: 12px;\n",
              "    }\n",
              "\n",
              "    .colab-df-convert {\n",
              "      background-color: #E8F0FE;\n",
              "      border: none;\n",
              "      border-radius: 50%;\n",
              "      cursor: pointer;\n",
              "      display: none;\n",
              "      fill: #1967D2;\n",
              "      height: 32px;\n",
              "      padding: 0 0 0 0;\n",
              "      width: 32px;\n",
              "    }\n",
              "\n",
              "    .colab-df-convert:hover {\n",
              "      background-color: #E2EBFA;\n",
              "      box-shadow: 0px 1px 2px rgba(60, 64, 67, 0.3), 0px 1px 3px 1px rgba(60, 64, 67, 0.15);\n",
              "      fill: #174EA6;\n",
              "    }\n",
              "\n",
              "    [theme=dark] .colab-df-convert {\n",
              "      background-color: #3B4455;\n",
              "      fill: #D2E3FC;\n",
              "    }\n",
              "\n",
              "    [theme=dark] .colab-df-convert:hover {\n",
              "      background-color: #434B5C;\n",
              "      box-shadow: 0px 1px 3px 1px rgba(0, 0, 0, 0.15);\n",
              "      filter: drop-shadow(0px 1px 2px rgba(0, 0, 0, 0.3));\n",
              "      fill: #FFFFFF;\n",
              "    }\n",
              "  </style>\n",
              "\n",
              "      <script>\n",
              "        const buttonEl =\n",
              "          document.querySelector('#df-9706558b-f19b-44a6-8766-7156b745b4b6 button.colab-df-convert');\n",
              "        buttonEl.style.display =\n",
              "          google.colab.kernel.accessAllowed ? 'block' : 'none';\n",
              "\n",
              "        async function convertToInteractive(key) {\n",
              "          const element = document.querySelector('#df-9706558b-f19b-44a6-8766-7156b745b4b6');\n",
              "          const dataTable =\n",
              "            await google.colab.kernel.invokeFunction('convertToInteractive',\n",
              "                                                     [key], {});\n",
              "          if (!dataTable) return;\n",
              "\n",
              "          const docLinkHtml = 'Like what you see? Visit the ' +\n",
              "            '<a target=\"_blank\" href=https://colab.research.google.com/notebooks/data_table.ipynb>data table notebook</a>'\n",
              "            + ' to learn more about interactive tables.';\n",
              "          element.innerHTML = '';\n",
              "          dataTable['output_type'] = 'display_data';\n",
              "          await google.colab.output.renderOutput(dataTable, element);\n",
              "          const docLink = document.createElement('div');\n",
              "          docLink.innerHTML = docLinkHtml;\n",
              "          element.appendChild(docLink);\n",
              "        }\n",
              "      </script>\n",
              "    </div>\n",
              "  </div>\n",
              "  "
            ]
          },
          "metadata": {},
          "execution_count": 11
        }
      ]
    },
    {
      "cell_type": "code",
      "source": [
        "print(personality.info())"
      ],
      "metadata": {
        "colab": {
          "base_uri": "https://localhost:8080/"
        },
        "id": "3cA5Nim-uRyA",
        "outputId": "0303b2c8-901f-4d62-c738-03c50c19f77d"
      },
      "execution_count": null,
      "outputs": [
        {
          "output_type": "stream",
          "name": "stdout",
          "text": [
            "<class 'pandas.core.frame.DataFrame'>\n",
            "RangeIndex: 128 entries, 0 to 127\n",
            "Data columns (total 7 columns):\n",
            " #   Column              Non-Null Count  Dtype \n",
            "---  ------              --------------  ----- \n",
            " 0   Personality         128 non-null    object\n",
            " 1   Grad_Year           128 non-null    int64 \n",
            " 2   USC_Exp             128 non-null    int64 \n",
            " 3   GPA                 128 non-null    object\n",
            " 4   Sex                 128 non-null    object\n",
            " 5   Merit_Scholarships  128 non-null    object\n",
            " 6   Extroversion        128 non-null    object\n",
            "dtypes: int64(2), object(5)\n",
            "memory usage: 7.1+ KB\n",
            "None\n"
          ]
        }
      ]
    },
    {
      "cell_type": "code",
      "source": [
        "Extroversion_df = personality.loc[personality['Extroversion'] == 'E']"
      ],
      "metadata": {
        "id": "cAyPWm6AuUQD"
      },
      "execution_count": null,
      "outputs": []
    },
    {
      "cell_type": "code",
      "source": [
        "Introversion_df = personality.loc[personality['Extroversion'] == 'I']"
      ],
      "metadata": {
        "id": "iIlz8860uZKI"
      },
      "execution_count": null,
      "outputs": []
    },
    {
      "cell_type": "code",
      "source": [
        "NumberOfSexE = Extroversion_df.groupby(['Sex']).count()"
      ],
      "metadata": {
        "id": "b5lp8fYKudWt"
      },
      "execution_count": null,
      "outputs": []
    },
    {
      "cell_type": "code",
      "source": [
        "Sex = ['Female', 'Male']"
      ],
      "metadata": {
        "id": "GtRxuk7nuhTS"
      },
      "execution_count": null,
      "outputs": []
    },
    {
      "cell_type": "code",
      "source": [
        "import matplotlib.pyplot as plt\n",
        "plt.pie(NumberOfSexE['Extroversion'], autopct='%1.0f%%',labels=Sex)\n",
        "plt.title('Sex of Extroverted Students')"
      ],
      "metadata": {
        "colab": {
          "base_uri": "https://localhost:8080/",
          "height": 282
        },
        "id": "mynTzwWwuqq7",
        "outputId": "1393fbbf-3691-4896-fa03-d14a226d0d28"
      },
      "execution_count": null,
      "outputs": [
        {
          "output_type": "execute_result",
          "data": {
            "text/plain": [
              "Text(0.5, 1.0, 'Sex of Extroverted Students')"
            ]
          },
          "metadata": {},
          "execution_count": 18
        },
        {
          "output_type": "display_data",
          "data": {
            "text/plain": [
              "<Figure size 432x288 with 1 Axes>"
            ],
            "image/png": "[encoded data removed]"
          },
          "metadata": {}
        }
      ]
    },
    {
      "cell_type": "code",
      "source": [
        "NumberOfSexI = Introversion_df.groupby(['Sex']).count()"
      ],
      "metadata": {
        "id": "3Vdk5F9Kusd5"
      },
      "execution_count": null,
      "outputs": []
    },
    {
      "cell_type": "code",
      "source": [
        "import matplotlib.pyplot as plt\n",
        "plt.pie(NumberOfSexI['Extroversion'], autopct='%1.0f%%',labels=Sex)\n",
        "plt.title('Sex of Introverted Students')"
      ],
      "metadata": {
        "colab": {
          "base_uri": "https://localhost:8080/",
          "height": 282
        },
        "id": "CmwoNmMnuuKc",
        "outputId": "1103e425-1c46-4914-8ff5-2190328c2e1f"
      },
      "execution_count": null,
      "outputs": [
        {
          "output_type": "execute_result",
          "data": {
            "text/plain": [
              "Text(0.5, 1.0, 'Sex of Introverted Students')"
            ]
          },
          "metadata": {},
          "execution_count": 20
        },
        {
          "output_type": "display_data",
          "data": {
            "text/plain": [
              "<Figure size 432x288 with 1 Axes>"
            ],
            "image/png": "[encoded data removed]"
          },
          "metadata": {}
        }
      ]
    },
    {
      "cell_type": "code",
      "source": [
        "AvgExtroversion = personality.groupby(['Extroversion']).mean()"
      ],
      "metadata": {
        "id": "6lRD1-CFuwyz"
      },
      "execution_count": null,
      "outputs": []
    },
    {
      "cell_type": "code",
      "source": [
        "print(AvgExtroversion)"
      ],
      "metadata": {
        "colab": {
          "base_uri": "https://localhost:8080/"
        },
        "id": "q_DEUB-_u0_5",
        "outputId": "8ee024fc-fae8-4c99-c3c2-cb7d44a3117b"
      },
      "execution_count": null,
      "outputs": [
        {
          "output_type": "stream",
          "name": "stdout",
          "text": [
            "                Grad_Year   USC_Exp\n",
            "Extroversion                       \n",
            "E             2022.644068  4.288136\n",
            "I             2022.695652  3.985507\n"
          ]
        }
      ]
    },
    {
      "cell_type": "code",
      "source": [
        "Labels = ['Extroverted', 'Introverted']"
      ],
      "metadata": {
        "id": "xVhXnltcu3Pl"
      },
      "execution_count": null,
      "outputs": []
    },
    {
      "cell_type": "code",
      "source": [
        "plt.barh(Labels, AvgExtroversion['USC_Exp'])\n",
        "plt.title(\"Average USC Experience Levels for Extroverted and Introverted Students\")\n",
        "plt.xlabel(\"Average USC Experience (Out of 5)\")\n",
        "plt.ylabel(\"Extroversion level\")"
      ],
      "metadata": {
        "colab": {
          "base_uri": "https://localhost:8080/",
          "height": 313
        },
        "id": "2Nx_LEdDu4jd",
        "outputId": "55727533-40c4-4a79-e111-9d1df845aacb"
      },
      "execution_count": null,
      "outputs": [
        {
          "output_type": "execute_result",
          "data": {
            "text/plain": [
              "Text(0, 0.5, 'Extroversion level')"
            ]
          },
          "metadata": {},
          "execution_count": 24
        },
        {
          "output_type": "display_data",
          "data": {
            "text/plain": [
              "<Figure size 432x288 with 1 Axes>"
            ],
            "image/png": "[encoded data removed]"
          },
          "metadata": {
            "needs_background": "light"
          }
        }
      ]
    },
    {
      "cell_type": "code",
      "source": [
        "DataMart1 = personality.loc[personality['Grad_Year'] == '2022']\n",
        "DataMart1 = personality.loc[personality['GPA'] == '3.3-3.6']\n",
        "print(DataMart1.head())"
      ],
      "metadata": {
        "id": "Jct073PDu6Lj",
        "outputId": "28e475f3-4f7c-4cda-d644-c5f027395725",
        "colab": {
          "base_uri": "https://localhost:8080/"
        }
      },
      "execution_count": null,
      "outputs": [
        {
          "output_type": "stream",
          "name": "stdout",
          "text": [
            "   Personality  Grad_Year  USC_Exp      GPA     Sex Merit_Scholarships  \\\n",
            "12      INFJ-T       2022        4  3.3-3.6  Female                 0%   \n",
            "26      INFP-A       2023        4  3.3-3.6    Male                 0%   \n",
            "35      ISTJ-T       2022        4  3.3-3.6  Female                75%   \n",
            "36      ENTJ-A       2022        5  3.3-3.6  Female               100%   \n",
            "40      INTJ-A       2022        5  3.3-3.6  Female                25%   \n",
            "\n",
            "   Extroversion  \n",
            "12            I  \n",
            "26            I  \n",
            "35            I  \n",
            "36            E  \n",
            "40            I  \n"
          ]
        }
      ]
    },
    {
      "cell_type": "code",
      "source": [
        "DataMart2 = personality.loc[personality['Merit_Scholarships'] == '50%']\n",
        "print(DataMart2.head())"
      ],
      "metadata": {
        "id": "s8ysvobEu8Ob",
        "outputId": "ccc68800-6270-4e71-ad4b-30303a8ef008",
        "colab": {
          "base_uri": "https://localhost:8080/"
        }
      },
      "execution_count": null,
      "outputs": [
        {
          "output_type": "stream",
          "name": "stdout",
          "text": [
            "   Personality  Grad_Year  USC_Exp    GPA     Sex Merit_Scholarships  \\\n",
            "4       INFJ-T       2023        3  > 3.6  Female                50%   \n",
            "15      INTP-A       2023        5  > 3.6    Male                50%   \n",
            "19      ISTJ-T       2023        4  > 3.6    Male                50%   \n",
            "34      ESFJ-A       2023        4  > 3.6    Male                50%   \n",
            "42      INFP-A       2022        4  > 3.6  Female                50%   \n",
            "\n",
            "   Extroversion  \n",
            "4             I  \n",
            "15            I  \n",
            "19            I  \n",
            "34            E  \n",
            "42            I  \n"
          ]
        }
      ]
    }
  ]
}