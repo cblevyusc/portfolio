{
  "nbformat": 4,
  "nbformat_minor": 0,
  "metadata": {
    "colab": {
      "provenance": []
    },
    "kernelspec": {
      "name": "python3",
      "display_name": "Python 3"
    },
    "language_info": {
      "name": "python"
    }
  },
  "cells": [
    {
      "cell_type": "code",
      "execution_count": null,
      "metadata": {
        "id": "FJdLJ5aC3oV-"
      },
      "outputs": [],
      "source": [
        "# PYTHON MODULES\n",
        "# User-installed modules\n",
        "!pip install pandas_bokeh\n",
        " \n",
        "# import pre-installed and user-installed modules\n",
        "import pandas as pd\n",
        "import numpy as np\n",
        "from sklearn.preprocessing import LabelEncoder\n",
        "import pandas_bokeh  # user-installed\n",
        " \n",
        " \n",
        "# pandas options\n",
        "pd.set_option('display.max_rows', 100)\n",
        "pd.set_option('plotting.backend', 'pandas_bokeh')\n",
        "pandas_bokeh.output_notebook()"
      ]
    },
    {
      "cell_type": "code",
      "source": [
        "!wget -nc 'https://raw.githubusercontent.com/uscprofessor/itp487_enterprise_data_analytics/main/data/personality_data_spring_2022.csv'\n",
        "personality_raw = pd.read_csv('personality_data_spring_2022.csv')"
      ],
      "metadata": {
        "id": "a0MPsObK3s9q"
      },
      "execution_count": null,
      "outputs": []
    },
    {
      "cell_type": "code",
      "source": [
        "personality_raw.shape"
      ],
      "metadata": {
        "id": "xl2Ifu933yeJ"
      },
      "execution_count": null,
      "outputs": []
    },
    {
      "cell_type": "code",
      "source": [
        "personality_raw"
      ],
      "metadata": {
        "id": "Mm68KQL430aS"
      },
      "execution_count": null,
      "outputs": []
    },
    {
      "cell_type": "code",
      "source": [
        "#Deep copy\n",
        "personality = personality_raw.copy()"
      ],
      "metadata": {
        "id": "EDykj4kj3_kV"
      },
      "execution_count": null,
      "outputs": []
    },
    {
      "cell_type": "code",
      "source": [
        "personality = personality[['Personality', 'Grad_Year', 'USC_Exp','GPA','Sex', 'Merit_Scholarships']]"
      ],
      "metadata": {
        "id": "JlWhtuWk_Py_"
      },
      "execution_count": null,
      "outputs": []
    },
    {
      "cell_type": "code",
      "source": [
        "personality.dropna()"
      ],
      "metadata": {
        "id": "1sXnmA4hAptR"
      },
      "execution_count": null,
      "outputs": []
    },
    {
      "cell_type": "code",
      "source": [
        "personality[personality.columns[3:]]=personality[personality.columns[3:]].apply(lambda x: x.str[0:]).astype(str)"
      ],
      "metadata": {
        "id": "EhUbMDuBAsZx"
      },
      "execution_count": null,
      "outputs": []
    },
    {
      "cell_type": "code",
      "source": [
        "a = lambda x : str(x)[0]\n",
        "personality['Extroversion'] = personality['Personality'].apply(a)"
      ],
      "metadata": {
        "id": "o2or9UfUCcv-"
      },
      "execution_count": null,
      "outputs": []
    },
    {
      "cell_type": "code",
      "source": [
        "personality.head(10)"
      ],
      "metadata": {
        "id": "PyHpcqhGGC2z"
      },
      "execution_count": null,
      "outputs": []
    },
    {
      "cell_type": "code",
      "source": [
        "print(personality.info())"
      ],
      "metadata": {
        "id": "uqZioQqRKyZo"
      },
      "execution_count": null,
      "outputs": []
    },
    {
      "cell_type": "code",
      "source": [
        "Extroversion_df = personality.loc[personality['Extroversion'] == 'E']"
      ],
      "metadata": {
        "id": "Qoy3S4yAe9v-"
      },
      "execution_count": null,
      "outputs": []
    },
    {
      "cell_type": "code",
      "source": [
        "Introversion_df = personality.loc[personality['Extroversion'] == 'I']"
      ],
      "metadata": {
        "id": "uD2EhBIIfkbS"
      },
      "execution_count": null,
      "outputs": []
    },
    {
      "cell_type": "code",
      "source": [
        "NumberOfSexE = Extroversion_df.groupby(['Sex']).count()"
      ],
      "metadata": {
        "id": "FGJx4LFafw0t"
      },
      "execution_count": null,
      "outputs": []
    },
    {
      "cell_type": "code",
      "source": [
        "Sex = ['Female', 'Male']"
      ],
      "metadata": {
        "id": "rsucYEbegpuK"
      },
      "execution_count": null,
      "outputs": []
    },
    {
      "cell_type": "code",
      "source": [
        "import matplotlib.pyplot as plt\n",
        "plt.pie(NumberOfSexE['Extroversion'], autopct='%1.0f%%',labels=Sex)\n",
        "plt.title('Sex of Extroverted Students')"
      ],
      "metadata": {
        "id": "LZo33blCgx0o"
      },
      "execution_count": null,
      "outputs": []
    },
    {
      "cell_type": "code",
      "source": [
        "NumberOfSexI = Introversion_df.groupby(['Sex']).count()"
      ],
      "metadata": {
        "id": "F0LeJNHnhPS3"
      },
      "execution_count": null,
      "outputs": []
    },
    {
      "cell_type": "code",
      "source": [
        "import matplotlib.pyplot as plt\n",
        "plt.pie(NumberOfSexI['Extroversion'], autopct='%1.0f%%',labels=Sex)\n",
        "plt.title('Sex of Introverted Students')"
      ],
      "metadata": {
        "id": "KaJjGmGGhaUk"
      },
      "execution_count": null,
      "outputs": []
    },
    {
      "cell_type": "code",
      "source": [
        "AvgExtroversion = personality.groupby(['Extroversion']).mean()"
      ],
      "metadata": {
        "id": "7Pv5J0iDh6Kv"
      },
      "execution_count": null,
      "outputs": []
    },
    {
      "cell_type": "code",
      "source": [
        "print(AvgExtroversion)"
      ],
      "metadata": {
        "id": "g3tGG2DmnK9l"
      },
      "execution_count": null,
      "outputs": []
    },
    {
      "cell_type": "code",
      "source": [
        "Labels = ['Extroverted', 'Introverted']"
      ],
      "metadata": {
        "id": "Xjz86RoGnM9I"
      },
      "execution_count": null,
      "outputs": []
    },
    {
      "cell_type": "code",
      "source": [
        "plt.barh(Labels, AvgExtroversion['USC_Exp'])\n",
        "plt.title(\"Average USC Experience Levels for Extroverted and Introverted Students\")\n",
        "plt.xlabel(\"Average USC Experience (Out of 5)\")\n",
        "plt.ylabel(\"Extroversion level\")"
      ],
      "metadata": {
        "id": "jFLFNYosnWup"
      },
      "execution_count": null,
      "outputs": []
    },
    {
      "cell_type": "code",
      "source": [
        "DataMart1 = personality.loc[personality['Grad_Year'] == '2022']\n",
        "DataMart1 = personality.loc[personality['GPA'] == '3.3-3.6']\n",
        "print(DataMart1.head())"
      ],
      "metadata": {
        "id": "bZ07DLFXn0gG"
      },
      "execution_count": null,
      "outputs": []
    },
    {
      "cell_type": "code",
      "source": [
        "DataMart2 = personality.loc[personality['Merit_Scholarships'] == '50%']\n",
        "print(DataMart2.head())"
      ],
      "metadata": {
        "id": "73T3NNg3rz_Q"
      },
      "execution_count": null,
      "outputs": []
    }
  ]
}